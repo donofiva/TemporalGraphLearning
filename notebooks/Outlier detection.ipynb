{
 "cells": [
  {
   "cell_type": "code",
   "execution_count": null,
   "id": "5d352791-557f-4531-9776-00ab34e40af8",
   "metadata": {},
   "outputs": [],
   "source": [
    "# Libraries\n",
    "from datetime import datetime\n",
    "\n",
    "# Clean warnings\n",
    "import warnings\n",
    "warnings.simplefilter(action='ignore', category=FutureWarning)\n",
    "\n",
    "# Data\n",
    "import numpy as np\n",
    "import pandas as pd\n",
    "import matplotlib\n",
    "import matplotlib.pyplot as plt\n",
    "import seaborn as sns\n",
    "from mpl_toolkits.axes_grid1 import AxesGrid\n",
    "\n",
    "# Models\n",
    "import gstools as gt\n",
    "from pykrige.ok import OrdinaryKriging"
   ]
  },
  {
   "cell_type": "markdown",
   "id": "c124fc45-2b67-4e43-a00b-541340a0f1e0",
   "metadata": {},
   "source": [
    "# Outlier detection"
   ]
  },
  {
   "cell_type": "markdown",
   "id": "5b614ae2-5f44-4cd1-8475-4fa3d064c3a6",
   "metadata": {},
   "source": [
    "## Load dataset"
   ]
  },
  {
   "cell_type": "code",
   "execution_count": null,
   "id": "a7d8989a-0d30-478a-9585-60138f2c5b78",
   "metadata": {},
   "outputs": [],
   "source": [
    "timeseries = pd.read_csv('data/timeseries.csv')\n",
    "timeseries.columns = [column.upper() for column in timeseries.columns]\n",
    "timeseries = timeseries.sort_values(['TURBID', 'DAY', 'TMSTAMP'])"
   ]
  },
  {
   "cell_type": "code",
   "execution_count": null,
   "id": "d397c9d4-48ac-429c-b03f-209b87fa68e4",
   "metadata": {},
   "outputs": [],
   "source": [
    "location = pd.read_csv('data/location.csv')\n",
    "location.columns = [column.upper() for column in location.columns]\n",
    "location = location.sort_values(['TURBID'])"
   ]
  },
  {
   "cell_type": "markdown",
   "id": "4f74e56e-9517-402c-9675-bd6e399d6fd0",
   "metadata": {
    "tags": []
   },
   "source": [
    "## Outlier detection"
   ]
  },
  {
   "cell_type": "markdown",
   "id": "99211f15-a5cb-4b4a-8ec9-a8e2ef0c5435",
   "metadata": {},
   "source": [
    "### Visualization"
   ]
  },
  {
   "cell_type": "code",
   "execution_count": null,
   "id": "792084e3-f790-4c44-8781-238628f613b7",
   "metadata": {},
   "outputs": [],
   "source": [
    "def visualize_plain_timeseries_with_outliers(\n",
    "    collection,\n",
    "    series,\n",
    "    labels,\n",
    "    outliers,\n",
    "    output,\n",
    "    series_comparison=None,\n",
    "    outliers_comparison=None,\n",
    "    upper_bound=None,\n",
    "    lower_bound=None\n",
    "):\n",
    "\n",
    "    # Initialize subplots\n",
    "    fig, axs = plt.subplots(\n",
    "        collection.shape[0], \n",
    "        1, \n",
    "        figsize=(50, 750), \n",
    "        sharex=True, \n",
    "        sharey=True\n",
    "    )\n",
    "    \n",
    "    # Draw timeseries\n",
    "    for ax, items in zip(axs, collection.to_dict(orient='index').values()):\n",
    "\n",
    "        # Expand timeseries information\n",
    "        labels_ = items[labels]\n",
    "\n",
    "        # Outliers\n",
    "        outliers_ = items[outliers]\n",
    "        if outliers_comparison:\n",
    "            \n",
    "            outliers_comparison_ = items[outliers_comparison]\n",
    "            outliers_recovered_ = ~outliers_ & outliers_comparison_\n",
    "\n",
    "        # Timeseries\n",
    "        series_ = items[series]\n",
    "        indices_ = list(range(len(series_)))\n",
    "\n",
    "        # Show temperature scatterplot\n",
    "        ax.scatter(indices_, series_, s=(~outliers_) * 2)\n",
    "        if series_comparison is not None and outliers_comparison is not None:\n",
    "            \n",
    "            series_comparison_ = items[series_comparison]\n",
    "            ax.scatter(indices_, series_comparison_, s=(outliers_recovered_) * 2)\n",
    "\n",
    "        # Show outliers\n",
    "        ax.fill_between(\n",
    "            indices_, \n",
    "            0, \n",
    "            1, \n",
    "            where=outliers_, \n",
    "            alpha=.3, \n",
    "            color='red',\n",
    "            transform=ax.get_xaxis_transform(), \n",
    "            linewidth=0\n",
    "        )\n",
    "\n",
    "        # Fix plot\n",
    "        ax.set_xlim([0, len(indices_)])\n",
    "        ax.set_ylim([lower_bound, upper_bound])\n",
    "        ax.spines['right'].set_visible(False)\n",
    "        ax.spines['top'].set_visible(False)\n",
    "\n",
    "        # Set title\n",
    "        ax.set_title(f'TURBID {labels_}', loc='left')\n",
    "\n",
    "    # Store viz\n",
    "    plt.savefig(output)\n",
    "    plt.show()"
   ]
  },
  {
   "cell_type": "markdown",
   "id": "444c35d2-36d6-46bb-b855-bb3e00719b16",
   "metadata": {},
   "source": [
    "### External temperature"
   ]
  },
  {
   "cell_type": "code",
   "execution_count": null,
   "id": "d87956c0-91f4-46d7-8d94-853c8335071e",
   "metadata": {},
   "outputs": [],
   "source": [
    "# This graph is ugly, let's improve it"
   ]
  },
  {
   "cell_type": "code",
   "execution_count": null,
   "id": "d7ea6a12-482c-40a3-9204-0620a983d48f",
   "metadata": {},
   "outputs": [],
   "source": [
    "fig, ax = plt.subplots(1, 1, figsize=(30, 8))\n",
    "\n",
    "# Plot temperature distribution\n",
    "ax.hist(timeseries['ETMP'], 500)\n",
    "\n",
    "# Format graph\n",
    "ax.set_xlim(left=-275, right=425)\n",
    "start, end = ax.get_xlim()\n",
    "ax.xaxis.set_ticks(np.arange(start, end, 25))\n",
    "ax.spines['right'].set_visible(False)\n",
    "ax.spines['top'].set_visible(False)\n",
    "\n",
    "# Set title\n",
    "plt.title('External temperature values distribution')\n",
    "plt.show()"
   ]
  },
  {
   "cell_type": "code",
   "execution_count": null,
   "id": "196b747d-9d4f-4813-b788-328aafdee35b",
   "metadata": {},
   "outputs": [],
   "source": [
    "# Set up upper bound and lower bound for outliers\n",
    "external_temperature_upper_bound = 50.0\n",
    "external_temperature_lower_bound = -10.0"
   ]
  },
  {
   "cell_type": "markdown",
   "id": "e33fced7-1304-41cb-b995-437e4f95c95b",
   "metadata": {},
   "source": [
    "## Outlier labeling using bounds & z-score"
   ]
  },
  {
   "cell_type": "code",
   "execution_count": null,
   "id": "e163027c-bef5-4347-82a9-0f808ac0a368",
   "metadata": {},
   "outputs": [],
   "source": [
    "def external_temperature_outlier_by_value(value):\n",
    "    \n",
    "    # Upper bound\n",
    "    if value > external_temperature_upper_bound:\n",
    "        return True\n",
    "    \n",
    "    # Lower bound\n",
    "    if value < external_temperature_lower_bound:\n",
    "        return True\n",
    "    \n",
    "    # Missing value\n",
    "    if np.isnan(value):\n",
    "        return True\n",
    "    \n",
    "    # Nearly exactly zero\n",
    "    if np.isclose(value, 0, rtol=1e-4):\n",
    "        return True\n",
    "    \n",
    "    return False"
   ]
  },
  {
   "cell_type": "code",
   "execution_count": null,
   "id": "c3492e60-de26-4bf9-af4b-a22e0f8b9317",
   "metadata": {},
   "outputs": [],
   "source": [
    "def external_temperature_outlier_by_z_score(external_temperatures):\n",
    "\n",
    "    # Store temperature statistics\n",
    "    mean = np.nanmean(external_temperatures_cube, axis=0)\n",
    "    std = np.nanstd(external_temperatures_cube, axis=0)\n",
    "\n",
    "    # Apply z-score methodology to evaluate points\n",
    "    z_score = np.abs((external_temperatures_cube - mean) / std)\n",
    "    return np.isnan(external_temperatures_cube) | (z_score > 2.5)"
   ]
  },
  {
   "cell_type": "markdown",
   "id": "75b9b0dd-41f9-4c4b-8c51-45432ac61939",
   "metadata": {},
   "source": [
    "#### Outliers by values"
   ]
  },
  {
   "cell_type": "code",
   "execution_count": null,
   "id": "66aef85c-0830-4563-a829-7bf3fdc52b51",
   "metadata": {},
   "outputs": [],
   "source": [
    "# Group timeseries by turbine to retrieve timeseries to fix\n",
    "external_temperatures_by_turbine = timeseries.groupby(['TURBID'], as_index=False).agg(\n",
    "    TIMESERIES=('ETMP', list)\n",
    ")"
   ]
  },
  {
   "cell_type": "code",
   "execution_count": null,
   "id": "21fadf66-e799-4a0d-aae4-291e67fd6252",
   "metadata": {},
   "outputs": [],
   "source": [
    "# Label outliers\n",
    "external_temperatures_by_turbine['TIMESERIES'] = external_temperatures_by_turbine['TIMESERIES'].map(\n",
    "    lambda series: np.where(\n",
    "        np.array(list(map(external_temperature_outlier_by_value, series))),\n",
    "        np.nan, \n",
    "        series\n",
    "    )\n",
    ")"
   ]
  },
  {
   "cell_type": "markdown",
   "id": "e5684942-69d5-48fb-993a-b0704da38f48",
   "metadata": {},
   "source": [
    "#### Outliers by z-score"
   ]
  },
  {
   "cell_type": "code",
   "execution_count": null,
   "id": "6e2de357-9111-4c0c-b7e1-b1c634cdccfa",
   "metadata": {},
   "outputs": [],
   "source": [
    "# Store temperature cube and evaluate z-score outliers\n",
    "external_temperatures_cube = np.array(external_temperatures_by_turbine['TIMESERIES'].tolist())\n",
    "outliers = external_temperature_outlier_by_z_score(external_temperatures_cube)\n",
    "external_temperatures_cube[outliers] = np.nan"
   ]
  },
  {
   "cell_type": "code",
   "execution_count": null,
   "id": "778113e6-d460-47b9-84c5-3eb6cb09630c",
   "metadata": {},
   "outputs": [],
   "source": [
    "external_temperatures_by_turbine['TIMESERIES'] = list(external_temperatures_cube)\n",
    "external_temperatures_by_turbine['OUTLIERS_INITIAL'] = list(np.isnan(external_temperatures_cube))"
   ]
  },
  {
   "cell_type": "markdown",
   "id": "1b144860-69ab-4341-b39e-60813778c5ad",
   "metadata": {},
   "source": [
    "#### Visualize outliers"
   ]
  },
  {
   "cell_type": "code",
   "execution_count": null,
   "id": "b520a8f4-bd7d-468e-98f6-8da434a98ea6",
   "metadata": {
    "tags": []
   },
   "outputs": [],
   "source": [
    "visualize_plain_timeseries_with_outliers(\n",
    "    collection=external_temperatures_by_turbine,\n",
    "    series='TIMESERIES',\n",
    "    labels='TURBID',\n",
    "    outliers='OUTLIERS_INITIAL',\n",
    "    output='viz/outliers/outliers.png',\n",
    "    upper_bound=60,\n",
    "    lower_bound=-15\n",
    ")"
   ]
  },
  {
   "cell_type": "markdown",
   "id": "65800d92-9b44-43ea-8182-6e86b994b57b",
   "metadata": {},
   "source": [
    "## Linear outlier removal"
   ]
  },
  {
   "cell_type": "markdown",
   "id": "4e735f40-96f2-4b9f-9efc-2e197c369514",
   "metadata": {},
   "source": [
    "### External temperature"
   ]
  },
  {
   "cell_type": "code",
   "execution_count": null,
   "id": "dd74c4d0-81b3-48d0-a93d-775009d658fa",
   "metadata": {},
   "outputs": [],
   "source": [
    "def fill_outlier_linear(timeseries):\n",
    "    \n",
    "    # Backup timeseries to avoid overlapping of reference\n",
    "    series = timeseries.copy()\n",
    "    \n",
    "    # Define one step window\n",
    "    for i in range(len(series) - 3):\n",
    "        \n",
    "        # Extract current indices to be \n",
    "        indices = list(range(i, i + 4))\n",
    "        window = series[indices]\n",
    "        \n",
    "        # Evaluate outliers\n",
    "        outliers_pattern = tuple(np.isnan(window))\n",
    "        \n",
    "        # [V, X, X, V]\n",
    "        if outliers_pattern == (False, True, True, False):\n",
    "            \n",
    "            # Fill temperatures with two-steps gradient\n",
    "            gradient = (window[-1] - window[0]) / 3\n",
    "            window[1] = window[0] + gradient\n",
    "            window[2] = window[1] + gradient\n",
    "            \n",
    "        # [V, X, V, V]\n",
    "        elif outliers_pattern == (False, True, False, False):\n",
    "            \n",
    "            # Fill temperatures with two-steps gradient\n",
    "            gradient = (window[2] - window[0]) / 2\n",
    "            window[1] = window[0] + gradient\n",
    "          \n",
    "        # [V, V, X, V]\n",
    "        elif outliers_pattern == (False, False, True, False):\n",
    "            \n",
    "            # Fill temperatures with two-steps gradient\n",
    "            gradient = (window[-1] - window[1]) / 2\n",
    "            window[1] = window[1] + gradient\n",
    "    \n",
    "        # Update timeseries values\n",
    "        series[indices] = window\n",
    "        \n",
    "    # Return linearly filled timeseries\n",
    "    return series"
   ]
  },
  {
   "cell_type": "code",
   "execution_count": null,
   "id": "a5c6a611-bd7f-456d-9c10-35a05e7c1181",
   "metadata": {},
   "outputs": [],
   "source": [
    "external_temperatures_by_turbine['TIMESERIES_LINEAR_FILL'] = external_temperatures_by_turbine['TIMESERIES'].map(fill_outlier_linear)\n",
    "external_temperatures_by_turbine['OUTLIERS_LINEAR'] = external_temperatures_by_turbine['TIMESERIES_LINEAR_FILL'].map(np.isnan)"
   ]
  },
  {
   "cell_type": "code",
   "execution_count": null,
   "id": "86eeaf16-0b71-40c1-ac0e-b2100f9f6b1e",
   "metadata": {
    "tags": []
   },
   "outputs": [],
   "source": [
    "visualize_plain_timeseries_with_outliers(\n",
    "    collection=external_temperatures_by_turbine,\n",
    "    series='TIMESERIES',\n",
    "    series_comparison='TIMESERIES_LINEAR_FILL',\n",
    "    labels='TURBID',\n",
    "    outliers='OUTLIERS_LINEAR',\n",
    "    outliers_comparison='OUTLIERS_INITIAL',\n",
    "    output='viz/outliers/outliers_linear.png',\n",
    "    upper_bound=60,\n",
    "    lower_bound=-15\n",
    ")"
   ]
  },
  {
   "cell_type": "markdown",
   "id": "f2e1f716-8d9c-4507-a05d-4b86653dddbc",
   "metadata": {},
   "source": [
    "## Kriging"
   ]
  },
  {
   "cell_type": "markdown",
   "id": "8b2d94e4-fb62-454a-bcce-0440bbf67c76",
   "metadata": {},
   "source": [
    "### Build grid"
   ]
  },
  {
   "cell_type": "code",
   "execution_count": null,
   "id": "fb721c5e-7af4-497e-aef5-14129697ca80",
   "metadata": {},
   "outputs": [],
   "source": [
    "# Define grid to index assignment to draw heatmap \n",
    "grid_assignment = {\n",
    "    (upper_bound, left_bound, lower_bound, right_bound): (y, x)\n",
    "    for y, (lower_bound, upper_bound) in enumerate(zip(reversed(np.arange(0, 12400, 400)), reversed(np.arange(400, 12800, 400))))\n",
    "    for x, (left_bound, right_bound) in enumerate(zip(np.arange(0, 5600, 400), np.arange(400, 6000, 400)))\n",
    "}\n",
    "\n",
    "# Define turbine to index assignment to draw heatmap \n",
    "turbine_assignment = {\n",
    "    int(row['TURBID']): [\n",
    "        grid_assignment[upper_bound, left_bound, lower_bound, right_bound]\n",
    "        for upper_bound, left_bound, lower_bound, right_bound in grid_assignment.keys()\n",
    "        if upper_bound >= row['Y'] and lower_bound <= row['Y'] and right_bound >= row['X'] and left_bound <= row['X']\n",
    "    ].pop()\n",
    "    for _, row in location.iterrows()\n",
    "}\n",
    "\n",
    "turbine_assignment_reversed = {\n",
    "    value: key\n",
    "    for key, value in turbine_assignment.items()\n",
    "}"
   ]
  },
  {
   "cell_type": "markdown",
   "id": "2f7cbf64-c6f4-4bbd-8630-087c332c42ca",
   "metadata": {
    "tags": []
   },
   "source": [
    "### Color map"
   ]
  },
  {
   "cell_type": "code",
   "execution_count": null,
   "id": "fbe49468-4f2b-461f-980f-bd8d8d1af62a",
   "metadata": {},
   "outputs": [],
   "source": [
    "def shiftedColorMap(cmap, start=0, midpoint=0.5, stop=1.0, name='shiftedcmap'):\n",
    "    '''\n",
    "    Function to offset the \"center\" of a colormap. Useful for\n",
    "    data with a negative min and positive max and you want the\n",
    "    middle of the colormap's dynamic range to be at zero.\n",
    "\n",
    "    Input\n",
    "    -----\n",
    "      cmap : The matplotlib colormap to be altered\n",
    "      start : Offset from lowest point in the colormap's range.\n",
    "          Defaults to 0.0 (no lower offset). Should be between\n",
    "          0.0 and `midpoint`.\n",
    "      midpoint : The new center of the colormap. Defaults to \n",
    "          0.5 (no shift). Should be between 0.0 and 1.0. In\n",
    "          general, this should be  1 - vmax / (vmax + abs(vmin))\n",
    "          For example if your data range from -15.0 to +5.0 and\n",
    "          you want the center of the colormap at 0.0, `midpoint`\n",
    "          should be set to  1 - 5/(5 + 15)) or 0.75\n",
    "      stop : Offset from highest point in the colormap's range.\n",
    "          Defaults to 1.0 (no upper offset). Should be between\n",
    "          `midpoint` and 1.0.\n",
    "    '''\n",
    "    cdict = {\n",
    "        'red': [],\n",
    "        'green': [],\n",
    "        'blue': [],\n",
    "        'alpha': []\n",
    "    }\n",
    "\n",
    "    # regular index to compute the colors\n",
    "    reg_index = np.linspace(start, stop, 257)\n",
    "\n",
    "    # shifted index to match the data\n",
    "    shift_index = np.hstack([\n",
    "        np.linspace(0.0, midpoint, 128, endpoint=False), \n",
    "        np.linspace(midpoint, 1.0, 129, endpoint=True)\n",
    "    ])\n",
    "\n",
    "    for ri, si in zip(reg_index, shift_index):\n",
    "        r, g, b, a = cmap(ri)\n",
    "\n",
    "        cdict['red'].append((si, r, r))\n",
    "        cdict['green'].append((si, g, g))\n",
    "        cdict['blue'].append((si, b, b))\n",
    "        cdict['alpha'].append((si, a, a))\n",
    "\n",
    "    newcmap = matplotlib.colors.LinearSegmentedColormap(name, cdict)\n",
    "    plt.register_cmap(cmap=newcmap)\n",
    "\n",
    "    return newcmap"
   ]
  },
  {
   "cell_type": "code",
   "execution_count": null,
   "id": "c244146b-af78-4ed6-bd5b-8af4b204c9b7",
   "metadata": {},
   "outputs": [],
   "source": [
    "vlag = sns.color_palette('vlag', as_cmap=True)\n",
    "temperature_cmap = shiftedColorMap(vlag, start=0, midpoint=.18, stop=1, name='vlag_custom')\n",
    "energy_cmap = sns.color_palette('rocket', as_cmap=True)"
   ]
  },
  {
   "cell_type": "markdown",
   "id": "a7bb5617-2b77-4d88-a304-bb7dfc38a555",
   "metadata": {},
   "source": [
    "### Labels"
   ]
  },
  {
   "cell_type": "code",
   "execution_count": null,
   "id": "fa6fe2d8-5cf2-4c8c-848b-689c5ec123ba",
   "metadata": {},
   "outputs": [],
   "source": [
    "# Define heatmap labels\n",
    "heatmap_labels = np.zeros((31, 14)).astype(str)\n",
    "\n",
    "for y, row in enumerate(heatmap_labels):\n",
    "    for x, col in enumerate(row):\n",
    "        heatmap_labels[y, x] = str(turbine_assignment_reversed.get((y, x), ''))"
   ]
  },
  {
   "cell_type": "markdown",
   "id": "24806c48-308c-4d9a-8f66-8ad747c2ee5c",
   "metadata": {},
   "source": [
    "### Kriging interpolation"
   ]
  },
  {
   "cell_type": "code",
   "execution_count": null,
   "id": "b16fb4dc-414f-4baf-8717-c16f282afdad",
   "metadata": {},
   "outputs": [],
   "source": [
    "def variogram_inference(x, y, z):\n",
    "    \n",
    "    # Bin data and perform variogram estimation\n",
    "    bins = gt.standard_bins((x, y))\n",
    "    bin_c, vario = gt.vario_estimate((x, y), z, bins)\n",
    "    \n",
    "    # Fit variogram\n",
    "    model = gt.Gaussian(dim=2)\n",
    "    model.fit_variogram(bin_c, vario, nugget=False)\n",
    "    \n",
    "    # Return model\n",
    "    return model"
   ]
  },
  {
   "cell_type": "code",
   "execution_count": null,
   "id": "61d9cefd-1589-4837-9ea2-ec9a740e7154",
   "metadata": {},
   "outputs": [],
   "source": [
    "def kriging_interpolation(x, y, z, x_grid, y_grid):\n",
    "    \n",
    "    # Store interpolation pairs\n",
    "    z = z.copy()\n",
    "    interpolation_pairs = []\n",
    "    \n",
    "    # Iterative kriging based on previous timeseries point\n",
    "    for series_index in range(z.shape[1] - 1):\n",
    "    \n",
    "        # Convert series to array\n",
    "        z_left = z[:, series_index]\n",
    "        z_right = z[:, series_index + 1]\n",
    "\n",
    "        # Store number of missing values\n",
    "        missing_values_left = np.isnan(z_left)\n",
    "        missing_values_right = np.isnan(z_right)\n",
    "\n",
    "        # If missing values are too many, just drop this iteration\n",
    "        if sum(missing_values_right) / len(z_right) > 0.5:\n",
    "            continue\n",
    "\n",
    "        # Use left kriging to improve temperature interpolation\n",
    "        if not np.any(missing_values_left):\n",
    "\n",
    "            # Variogram inference\n",
    "            variogram_left = variogram_inference(x, y, z_left)\n",
    "            \n",
    "            # Initiliaze left Kriging\n",
    "            kriging_left = OrdinaryKriging(\n",
    "                x=x[~missing_values_left], \n",
    "                y=y[~missing_values_left], \n",
    "                z=z_left[~missing_values_left], \n",
    "                coordinates_type='euclidean', \n",
    "                variogram_model=variogram_left\n",
    "            )\n",
    "\n",
    "            # Perform left Kriging\n",
    "            z_left_interpolated, _ = kriging_left.execute(\"grid\", x_grid, y_grid)\n",
    "            z_left_interpolated = np.flip(z_left_interpolated, axis=0)\n",
    "            \n",
    "        # Variogram inference\n",
    "        variogram_right = variogram_inference(x, y, z_right)\n",
    "            \n",
    "        # Initiliaze right Kriging\n",
    "        kriging_right = OrdinaryKriging(\n",
    "            x=x[~missing_values_right], \n",
    "            y=y[~missing_values_right], \n",
    "            z=z_right[~missing_values_right], \n",
    "            coordinates_type='euclidean', \n",
    "            variogram_model=variogram_right\n",
    "        )\n",
    "\n",
    "        # Perform right Kriging\n",
    "        z_right_interpolated, _ = kriging_right.execute(\"grid\", x_grid, y_grid)\n",
    "        z_right_interpolated = np.flip(z_right_interpolated, axis=0)\n",
    "\n",
    "        # Sample from grid \n",
    "        z_right_interpolated_collapsed = np.array([\n",
    "            z_right_interpolated[indices[0], indices[1]] \n",
    "            for indices in turbine_assignment_reversed\n",
    "        ])\n",
    "        \n",
    "        interpolation = z_right_interpolated_collapsed.copy()\n",
    "\n",
    "        # Perform scaling on left Kriging if available\n",
    "        if not np.any(missing_values_left):\n",
    "\n",
    "            z_left_interpolated_collapsed = np.array([\n",
    "                z_left_interpolated[indices[0], indices[1]] \n",
    "                for indices in turbine_assignment_reversed\n",
    "            ])\n",
    "            \n",
    "            # Use high autocorrelation at time-step t - 1 to perform better interpolation\n",
    "            interpolation = z_left + (z_right_interpolated_collapsed - z_left_interpolated_collapsed)\n",
    "\n",
    "        # Store interpolation \n",
    "        z_filled = np.where(missing_values_right, interpolation, z_right)\n",
    "        z[:, series_index + 1] = z_filled\n",
    "        \n",
    "        # Store interpolation pairs\n",
    "        interpolation_pairs.append((\n",
    "            z_left_interpolated_collapsed if not np.any(missing_values_left) else None,\n",
    "            z_right_interpolated_collapsed\n",
    "        ))\n",
    "\n",
    "    return z, interpolation_pairs"
   ]
  },
  {
   "cell_type": "code",
   "execution_count": null,
   "id": "29a9e713-2bd6-423f-8d73-8f246b6cc8e3",
   "metadata": {
    "tags": []
   },
   "outputs": [],
   "source": [
    "# Store windmills coordinates\n",
    "x = location['X'].values / 1000\n",
    "y = location['Y'].values / 1000\n",
    "z = np.array(external_temperatures_by_turbine['TIMESERIES_LINEAR_FILL'].tolist())\n",
    "\n",
    "# Store windmills grid\n",
    "x_grid = np.arange(0, 5.6, .4).astype(float)\n",
    "y_grid = np.arange(0, 12.4, .4).astype(float)"
   ]
  },
  {
   "cell_type": "code",
   "execution_count": null,
   "id": "ed30c7d4-780c-42a1-abf8-4744d0b91d35",
   "metadata": {
    "tags": []
   },
   "outputs": [],
   "source": [
    "# Perform Kriging interpolation\n",
    "z_iterpolated, interpolation_pairs = kriging_interpolation(x, y, z, x_grid, y_grid)"
   ]
  },
  {
   "cell_type": "code",
   "execution_count": null,
   "id": "6a8a4afa-7003-4f85-a4bd-1b2d2f26e582",
   "metadata": {},
   "outputs": [],
   "source": [
    "external_temperatures_by_turbine['TIMESERIES_KRIGING_FILL'] = list(z_iterpolated)\n",
    "external_temperatures_by_turbine['OUTLIERS_KRIGING'] = list(np.isnan(z_iterpolated))"
   ]
  },
  {
   "cell_type": "code",
   "execution_count": null,
   "id": "88af8c2b-d75a-4854-9723-785e9090aa04",
   "metadata": {
    "tags": []
   },
   "outputs": [],
   "source": [
    "visualize_plain_timeseries_with_outliers(\n",
    "    collection=external_temperatures_by_turbine,\n",
    "    series='TIMESERIES',\n",
    "    series_comparison='TIMESERIES_KRIGING_FILL',\n",
    "    labels='TURBID',\n",
    "    outliers='OUTLIERS_KRIGING',\n",
    "    outliers_comparison='OUTLIERS_INITIAL',\n",
    "    output='viz/outliers/outliers_kriging.png',\n",
    "    upper_bound=60,\n",
    "    lower_bound=-15\n",
    ")"
   ]
  },
  {
   "cell_type": "markdown",
   "id": "7be108e2-758f-4047-aab3-9598076fdaaa",
   "metadata": {
    "tags": []
   },
   "source": [
    "### Kriging interpolation on normalized dataset"
   ]
  },
  {
   "cell_type": "code",
   "execution_count": null,
   "id": "40281089-a768-4754-9bdf-350e202f7d14",
   "metadata": {},
   "outputs": [],
   "source": [
    "# Store windmills coordinates\n",
    "x = location['X'].values.reshape(-1, 1) / 1000\n",
    "y = location['Y'].values.reshape(-1, 1) / 1000\n",
    "z = np.array(external_temperatures_by_turbine['TIMESERIES_LINEAR_FILL'].tolist())\n",
    "\n",
    "# Store windmills grid\n",
    "x_grid = np.arange(0, 5.6, .4).astype(float)\n",
    "y_grid = np.arange(0, 12.4, .4).astype(float)"
   ]
  },
  {
   "cell_type": "code",
   "execution_count": null,
   "id": "54a201da-a30f-4ca8-99ec-415fb98c623c",
   "metadata": {
    "tags": []
   },
   "outputs": [],
   "source": [
    "# Store temperatures cube and initialize filled collection\n",
    "z_normalized = z.copy()\n",
    "\n",
    "# Extract normalization values\n",
    "mean = np.nanmean(z_normalized, axis=1).reshape(-1, 1)\n",
    "std = np.nanstd(z_normalized, axis=1).reshape(-1, 1)\n",
    "std[np.isnan(std) | (std == 0) | (std < 12)] = np.nanmean(std[std >= 12])\n",
    "\n",
    "# Perform normalization\n",
    "z_normalized = (z_normalized - mean) / std"
   ]
  },
  {
   "cell_type": "code",
   "execution_count": null,
   "id": "e8425287-972c-4107-80a2-2ba43c64ca84",
   "metadata": {
    "tags": []
   },
   "outputs": [],
   "source": [
    "# Perform Krigin interpolation\n",
    "z_iterpolated, interpolation_pairs = kriging_interpolation(x, y, z_normalized, x_grid, y_grid)"
   ]
  },
  {
   "cell_type": "code",
   "execution_count": null,
   "id": "a33328f0-66b8-42ab-94c0-e79399b21540",
   "metadata": {},
   "outputs": [],
   "source": [
    "# Recover statistics\n",
    "mean_r = mean.copy()\n",
    "std_r = std.copy()\n",
    "mean_r[np.isnan(mean_r)] = np.nanmean(mean_r)"
   ]
  },
  {
   "cell_type": "code",
   "execution_count": null,
   "id": "b23172b2-247e-4c35-8bfa-5359cf1052dc",
   "metadata": {},
   "outputs": [],
   "source": [
    "external_temperatures_by_turbine['TIMESERIES_KRIGING_FILL_NORMALIZED'] = list(z_iterpolated * std_r + mean_r)"
   ]
  },
  {
   "cell_type": "code",
   "execution_count": null,
   "id": "7b99679f-5f48-4a8e-a865-102efcb7a630",
   "metadata": {
    "tags": []
   },
   "outputs": [],
   "source": [
    "visualize_plain_timeseries_with_outliers(\n",
    "    collection=external_temperatures_by_turbine,\n",
    "    series='TIMESERIES',\n",
    "    series_comparison='TIMESERIES_KRIGING_FILL_NORMALIZED',\n",
    "    labels='TURBID',\n",
    "    outliers='OUTLIERS_KRIGING',\n",
    "    outliers_comparison='OUTLIERS_INITIAL',\n",
    "    output='viz/outliers/outliers_kriging_normalized.png',\n",
    "    upper_bound=60,\n",
    "    lower_bound=-15\n",
    ")"
   ]
  }
 ],
 "metadata": {
  "kernelspec": {
   "display_name": "Python 3 (ipykernel)",
   "language": "python",
   "name": "python3"
  },
  "language_info": {
   "codemirror_mode": {
    "name": "ipython",
    "version": 3
   },
   "file_extension": ".py",
   "mimetype": "text/x-python",
   "name": "python",
   "nbconvert_exporter": "python",
   "pygments_lexer": "ipython3",
   "version": "3.12.2"
  }
 },
 "nbformat": 4,
 "nbformat_minor": 5
}
