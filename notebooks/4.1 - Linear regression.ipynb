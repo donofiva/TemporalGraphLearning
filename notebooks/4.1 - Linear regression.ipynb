{
 "cells": [
  {
   "cell_type": "markdown",
   "id": "7d5938d5-c7ff-4d98-a53b-97b01b30f9c1",
   "metadata": {},
   "source": [
    "# 4.1. Linear regression"
   ]
  },
  {
   "cell_type": "markdown",
   "id": "ef8b0929-0bc9-4b33-a181-1a3c10f8ef5b",
   "metadata": {},
   "source": [
    "## Environment setup"
   ]
  },
  {
   "cell_type": "markdown",
   "id": "8ee6abcb-51d5-4110-8608-0ca5fa4b1596",
   "metadata": {},
   "source": [
    "### Install TGL package"
   ]
  },
  {
   "cell_type": "code",
   "execution_count": 185,
   "id": "06a7fe5e-5cff-49b5-89a5-e24a99fdecda",
   "metadata": {},
   "outputs": [],
   "source": [
    "import os"
   ]
  },
  {
   "cell_type": "code",
   "execution_count": 186,
   "id": "4ddb5ae0-f93a-46c1-a7ec-1fe91fe98c0a",
   "metadata": {},
   "outputs": [],
   "source": [
    "os.environ['PATH'] = \"/Users/ivandonofrio/Workplace/Notebooks/venv/bin:\" + os.environ['PATH']"
   ]
  },
  {
   "cell_type": "code",
   "execution_count": 187,
   "id": "72b536c8-a2c2-45cb-808b-2f8856ee974f",
   "metadata": {
    "scrolled": true
   },
   "outputs": [
    {
     "name": "stderr",
     "output_type": "stream",
     "text": [
      "Cloning into 'TemporalGraphLearning'...\n"
     ]
    },
    {
     "name": "stdout",
     "output_type": "stream",
     "text": [
      "Processing /Users/ivandonofrio/Workplace/Notebooks/TemporalGraphLearning\n",
      "  Installing build dependencies: started\n",
      "  Installing build dependencies: finished with status 'done'\n",
      "  Getting requirements to build wheel: started\n",
      "  Getting requirements to build wheel: finished with status 'done'\n",
      "  Installing backend dependencies: started\n",
      "  Installing backend dependencies: finished with status 'done'\n",
      "  Preparing metadata (pyproject.toml): started\n",
      "  Preparing metadata (pyproject.toml): finished with status 'done'\n",
      "Requirement already satisfied: numpy in /Users/ivandonofrio/Workplace/Notebooks/venv/lib/python3.12/site-packages (from temporal_graph_learning==0.0.1) (1.26.4)\n",
      "Requirement already satisfied: pandas in /Users/ivandonofrio/Workplace/Notebooks/venv/lib/python3.12/site-packages (from temporal_graph_learning==0.0.1) (2.2.2)\n",
      "Requirement already satisfied: scipy in /Users/ivandonofrio/Workplace/Notebooks/venv/lib/python3.12/site-packages (from temporal_graph_learning==0.0.1) (1.13.0)\n",
      "Requirement already satisfied: statsmodels in /Users/ivandonofrio/Workplace/Notebooks/venv/lib/python3.12/site-packages (from temporal_graph_learning==0.0.1) (0.14.2)\n",
      "Requirement already satisfied: matplotlib in /Users/ivandonofrio/Workplace/Notebooks/venv/lib/python3.12/site-packages (from temporal_graph_learning==0.0.1) (3.8.4)\n",
      "Requirement already satisfied: seaborn in /Users/ivandonofrio/Workplace/Notebooks/venv/lib/python3.12/site-packages (from temporal_graph_learning==0.0.1) (0.13.2)\n",
      "Requirement already satisfied: scikit-learn in /Users/ivandonofrio/Workplace/Notebooks/venv/lib/python3.12/site-packages (from temporal_graph_learning==0.0.1) (1.4.2)\n",
      "Requirement already satisfied: contourpy>=1.0.1 in /Users/ivandonofrio/Workplace/Notebooks/venv/lib/python3.12/site-packages (from matplotlib->temporal_graph_learning==0.0.1) (1.2.1)\n",
      "Requirement already satisfied: cycler>=0.10 in /Users/ivandonofrio/Workplace/Notebooks/venv/lib/python3.12/site-packages (from matplotlib->temporal_graph_learning==0.0.1) (0.12.1)\n",
      "Requirement already satisfied: fonttools>=4.22.0 in /Users/ivandonofrio/Workplace/Notebooks/venv/lib/python3.12/site-packages (from matplotlib->temporal_graph_learning==0.0.1) (4.51.0)\n",
      "Requirement already satisfied: kiwisolver>=1.3.1 in /Users/ivandonofrio/Workplace/Notebooks/venv/lib/python3.12/site-packages (from matplotlib->temporal_graph_learning==0.0.1) (1.4.5)\n",
      "Requirement already satisfied: packaging>=20.0 in /Users/ivandonofrio/Workplace/Notebooks/venv/lib/python3.12/site-packages (from matplotlib->temporal_graph_learning==0.0.1) (24.0)\n",
      "Requirement already satisfied: pillow>=8 in /Users/ivandonofrio/Workplace/Notebooks/venv/lib/python3.12/site-packages (from matplotlib->temporal_graph_learning==0.0.1) (10.3.0)\n",
      "Requirement already satisfied: pyparsing>=2.3.1 in /Users/ivandonofrio/Workplace/Notebooks/venv/lib/python3.12/site-packages (from matplotlib->temporal_graph_learning==0.0.1) (3.1.2)\n",
      "Requirement already satisfied: python-dateutil>=2.7 in /Users/ivandonofrio/Workplace/Notebooks/venv/lib/python3.12/site-packages (from matplotlib->temporal_graph_learning==0.0.1) (2.9.0.post0)\n",
      "Requirement already satisfied: pytz>=2020.1 in /Users/ivandonofrio/Workplace/Notebooks/venv/lib/python3.12/site-packages (from pandas->temporal_graph_learning==0.0.1) (2024.1)\n",
      "Requirement already satisfied: tzdata>=2022.7 in /Users/ivandonofrio/Workplace/Notebooks/venv/lib/python3.12/site-packages (from pandas->temporal_graph_learning==0.0.1) (2024.1)\n",
      "Requirement already satisfied: joblib>=1.2.0 in /Users/ivandonofrio/Workplace/Notebooks/venv/lib/python3.12/site-packages (from scikit-learn->temporal_graph_learning==0.0.1) (1.4.0)\n",
      "Requirement already satisfied: threadpoolctl>=2.0.0 in /Users/ivandonofrio/Workplace/Notebooks/venv/lib/python3.12/site-packages (from scikit-learn->temporal_graph_learning==0.0.1) (3.4.0)\n",
      "Requirement already satisfied: patsy>=0.5.6 in /Users/ivandonofrio/Workplace/Notebooks/venv/lib/python3.12/site-packages (from statsmodels->temporal_graph_learning==0.0.1) (0.5.6)\n",
      "Requirement already satisfied: six in /Users/ivandonofrio/Workplace/Notebooks/venv/lib/python3.12/site-packages (from patsy>=0.5.6->statsmodels->temporal_graph_learning==0.0.1) (1.16.0)\n",
      "Building wheels for collected packages: temporal_graph_learning\n",
      "  Building wheel for temporal_graph_learning (pyproject.toml): started\n",
      "  Building wheel for temporal_graph_learning (pyproject.toml): finished with status 'done'\n",
      "  Created wheel for temporal_graph_learning: filename=temporal_graph_learning-0.0.1-py3-none-any.whl size=13162 sha256=be7e8aa3219fa4889e1401e2fa7d5b0d1e9b5b49c52868fa534cf7e064eaf17f\n",
      "  Stored in directory: /private/var/folders/qv/mvb8szpn0zgfn8vn02k7c24m0000gn/T/pip-ephem-wheel-cache-1a6gbswq/wheels/39/db/05/f395aacb8d67d0f880772d6a24131398880b7ba726b6f1820e\n",
      "Successfully built temporal_graph_learning\n",
      "Installing collected packages: temporal_graph_learning\n",
      "  Attempting uninstall: temporal_graph_learning\n",
      "    Found existing installation: temporal_graph_learning 0.0.1\n",
      "    Uninstalling temporal_graph_learning-0.0.1:\n",
      "      Successfully uninstalled temporal_graph_learning-0.0.1\n",
      "Successfully installed temporal_graph_learning-0.0.1\n"
     ]
    }
   ],
   "source": [
    "%%sh\n",
    "git clone git@github.com:donofiva/TemporalGraphLearning.git\n",
    "cd TemporalGraphLearning\n",
    "pip install .\n",
    "cd ..\n",
    "rm -r TemporalGraphLearning"
   ]
  },
  {
   "cell_type": "markdown",
   "id": "8963f449-246e-4078-8a8b-2938c83bfb3e",
   "metadata": {},
   "source": [
    "### Install dependencies"
   ]
  },
  {
   "cell_type": "code",
   "execution_count": 188,
   "id": "82201aa2-f657-4dd2-b083-0845250f5804",
   "metadata": {},
   "outputs": [
    {
     "name": "stdout",
     "output_type": "stream",
     "text": [
      "Requirement already satisfied: numpy in ./venv/lib/python3.12/site-packages (1.26.4)\n"
     ]
    }
   ],
   "source": [
    "!pip install numpy"
   ]
  },
  {
   "cell_type": "code",
   "execution_count": 189,
   "id": "5cf6cc90-8925-434b-b466-5545f60d1565",
   "metadata": {},
   "outputs": [
    {
     "name": "stdout",
     "output_type": "stream",
     "text": [
      "Requirement already satisfied: scipy in ./venv/lib/python3.12/site-packages (1.13.0)\n",
      "Requirement already satisfied: numpy<2.3,>=1.22.4 in ./venv/lib/python3.12/site-packages (from scipy) (1.26.4)\n"
     ]
    }
   ],
   "source": [
    "!pip install scipy"
   ]
  },
  {
   "cell_type": "code",
   "execution_count": 190,
   "id": "70d730a5-4379-46c3-a8cc-42f15a382e6c",
   "metadata": {},
   "outputs": [
    {
     "name": "stdout",
     "output_type": "stream",
     "text": [
      "Requirement already satisfied: pandas in ./venv/lib/python3.12/site-packages (2.2.2)\n",
      "Requirement already satisfied: numpy>=1.26.0 in ./venv/lib/python3.12/site-packages (from pandas) (1.26.4)\n",
      "Requirement already satisfied: python-dateutil>=2.8.2 in ./venv/lib/python3.12/site-packages (from pandas) (2.9.0.post0)\n",
      "Requirement already satisfied: pytz>=2020.1 in ./venv/lib/python3.12/site-packages (from pandas) (2024.1)\n",
      "Requirement already satisfied: tzdata>=2022.7 in ./venv/lib/python3.12/site-packages (from pandas) (2024.1)\n",
      "Requirement already satisfied: six>=1.5 in ./venv/lib/python3.12/site-packages (from python-dateutil>=2.8.2->pandas) (1.16.0)\n"
     ]
    }
   ],
   "source": [
    "!pip install pandas"
   ]
  },
  {
   "cell_type": "code",
   "execution_count": 191,
   "id": "1ab06c01-7148-4953-882d-52581f6b02d6",
   "metadata": {
    "jupyter": {
     "source_hidden": true
    }
   },
   "outputs": [
    {
     "name": "stdout",
     "output_type": "stream",
     "text": [
      "Requirement already satisfied: matplotlib in ./venv/lib/python3.12/site-packages (3.8.4)\n",
      "Requirement already satisfied: contourpy>=1.0.1 in ./venv/lib/python3.12/site-packages (from matplotlib) (1.2.1)\n",
      "Requirement already satisfied: cycler>=0.10 in ./venv/lib/python3.12/site-packages (from matplotlib) (0.12.1)\n",
      "Requirement already satisfied: fonttools>=4.22.0 in ./venv/lib/python3.12/site-packages (from matplotlib) (4.51.0)\n",
      "Requirement already satisfied: kiwisolver>=1.3.1 in ./venv/lib/python3.12/site-packages (from matplotlib) (1.4.5)\n",
      "Requirement already satisfied: numpy>=1.21 in ./venv/lib/python3.12/site-packages (from matplotlib) (1.26.4)\n",
      "Requirement already satisfied: packaging>=20.0 in ./venv/lib/python3.12/site-packages (from matplotlib) (24.0)\n",
      "Requirement already satisfied: pillow>=8 in ./venv/lib/python3.12/site-packages (from matplotlib) (10.3.0)\n",
      "Requirement already satisfied: pyparsing>=2.3.1 in ./venv/lib/python3.12/site-packages (from matplotlib) (3.1.2)\n",
      "Requirement already satisfied: python-dateutil>=2.7 in ./venv/lib/python3.12/site-packages (from matplotlib) (2.9.0.post0)\n",
      "Requirement already satisfied: six>=1.5 in ./venv/lib/python3.12/site-packages (from python-dateutil>=2.7->matplotlib) (1.16.0)\n"
     ]
    }
   ],
   "source": [
    "!pip install matplotlib"
   ]
  },
  {
   "cell_type": "code",
   "execution_count": 192,
   "id": "dae858e9-ca84-41b3-a4b5-7fe6f8b0b553",
   "metadata": {},
   "outputs": [
    {
     "name": "stdout",
     "output_type": "stream",
     "text": [
      "Requirement already satisfied: seaborn in ./venv/lib/python3.12/site-packages (0.13.2)\n",
      "Requirement already satisfied: numpy!=1.24.0,>=1.20 in ./venv/lib/python3.12/site-packages (from seaborn) (1.26.4)\n",
      "Requirement already satisfied: pandas>=1.2 in ./venv/lib/python3.12/site-packages (from seaborn) (2.2.2)\n",
      "Requirement already satisfied: matplotlib!=3.6.1,>=3.4 in ./venv/lib/python3.12/site-packages (from seaborn) (3.8.4)\n",
      "Requirement already satisfied: contourpy>=1.0.1 in ./venv/lib/python3.12/site-packages (from matplotlib!=3.6.1,>=3.4->seaborn) (1.2.1)\n",
      "Requirement already satisfied: cycler>=0.10 in ./venv/lib/python3.12/site-packages (from matplotlib!=3.6.1,>=3.4->seaborn) (0.12.1)\n",
      "Requirement already satisfied: fonttools>=4.22.0 in ./venv/lib/python3.12/site-packages (from matplotlib!=3.6.1,>=3.4->seaborn) (4.51.0)\n",
      "Requirement already satisfied: kiwisolver>=1.3.1 in ./venv/lib/python3.12/site-packages (from matplotlib!=3.6.1,>=3.4->seaborn) (1.4.5)\n",
      "Requirement already satisfied: packaging>=20.0 in ./venv/lib/python3.12/site-packages (from matplotlib!=3.6.1,>=3.4->seaborn) (24.0)\n",
      "Requirement already satisfied: pillow>=8 in ./venv/lib/python3.12/site-packages (from matplotlib!=3.6.1,>=3.4->seaborn) (10.3.0)\n",
      "Requirement already satisfied: pyparsing>=2.3.1 in ./venv/lib/python3.12/site-packages (from matplotlib!=3.6.1,>=3.4->seaborn) (3.1.2)\n",
      "Requirement already satisfied: python-dateutil>=2.7 in ./venv/lib/python3.12/site-packages (from matplotlib!=3.6.1,>=3.4->seaborn) (2.9.0.post0)\n",
      "Requirement already satisfied: pytz>=2020.1 in ./venv/lib/python3.12/site-packages (from pandas>=1.2->seaborn) (2024.1)\n",
      "Requirement already satisfied: tzdata>=2022.7 in ./venv/lib/python3.12/site-packages (from pandas>=1.2->seaborn) (2024.1)\n",
      "Requirement already satisfied: six>=1.5 in ./venv/lib/python3.12/site-packages (from python-dateutil>=2.7->matplotlib!=3.6.1,>=3.4->seaborn) (1.16.0)\n"
     ]
    }
   ],
   "source": [
    "!pip install seaborn"
   ]
  },
  {
   "cell_type": "code",
   "execution_count": 193,
   "id": "5b301cea-c7e7-4697-aa7c-5bf9abfd5f4b",
   "metadata": {},
   "outputs": [
    {
     "name": "stdout",
     "output_type": "stream",
     "text": [
      "Requirement already satisfied: scikit-learn in ./venv/lib/python3.12/site-packages (1.4.2)\n",
      "Requirement already satisfied: numpy>=1.19.5 in ./venv/lib/python3.12/site-packages (from scikit-learn) (1.26.4)\n",
      "Requirement already satisfied: scipy>=1.6.0 in ./venv/lib/python3.12/site-packages (from scikit-learn) (1.13.0)\n",
      "Requirement already satisfied: joblib>=1.2.0 in ./venv/lib/python3.12/site-packages (from scikit-learn) (1.4.0)\n",
      "Requirement already satisfied: threadpoolctl>=2.0.0 in ./venv/lib/python3.12/site-packages (from scikit-learn) (3.4.0)\n"
     ]
    }
   ],
   "source": [
    "!pip install scikit-learn"
   ]
  },
  {
   "cell_type": "markdown",
   "id": "6b6abb9f-3dcd-4f99-86e9-4c7781cc6aba",
   "metadata": {},
   "source": [
    "### Define constants and configurations"
   ]
  },
  {
   "cell_type": "code",
   "execution_count": 194,
   "id": "7ecaf9cd-e49a-45aa-b0d1-8f5b069d5665",
   "metadata": {},
   "outputs": [],
   "source": [
    "INPUT_PATH = 'inputs'"
   ]
  },
  {
   "cell_type": "markdown",
   "id": "dfa14c76-4a37-45e2-9d9e-da88f84892b5",
   "metadata": {},
   "source": [
    "## Dependencies"
   ]
  },
  {
   "cell_type": "code",
   "execution_count": 195,
   "id": "969df818-0817-4ef0-a5d7-b2fe68b58e0e",
   "metadata": {},
   "outputs": [],
   "source": [
    "import os\n",
    "import scipy\n",
    "import numpy as np\n",
    "import pandas as pd\n",
    "import matplotlib.pyplot as plt\n",
    "import seaborn as sns"
   ]
  },
  {
   "cell_type": "code",
   "execution_count": 196,
   "id": "9ba213d3-bcc4-4eb6-bd36-0db06ed51582",
   "metadata": {},
   "outputs": [],
   "source": [
    "from temporal_graph_learning.abstraction.Dataset import Dataset\n",
    "from temporal_graph_learning.abstraction.Timeseries import Timeseries\n",
    "from temporal_graph_learning.charts.Plots import Plots\n",
    "from temporal_graph_learning.charts.Plot import Plot\n",
    "from temporal_graph_learning.charts.Histogram import Histogram\n",
    "from temporal_graph_learning.charts.Lineplot import Lineplot\n",
    "from temporal_graph_learning.charts.IdentityLine import IdentityLine\n",
    "from temporal_graph_learning.charts.Heatmap import Heatmap\n",
    "from temporal_graph_learning.charts.Scatterplot import Scatterplot\n",
    "from temporal_graph_learning.charts.Text import Text\n",
    "from temporal_graph_learning.charts.AutoCorrelation import AutoCorrelation\n",
    "from temporal_graph_learning.io.FileManager import FileManager\n",
    "from temporal_graph_learning.data.impute.LinearInterpolationImputer import LinearInterpolationImputer\n",
    "from temporal_graph_learning.models.MultiTargetLinearRegression import MultiTargetLinearRegression"
   ]
  },
  {
   "cell_type": "code",
   "execution_count": 197,
   "id": "19632efc-1c2a-4c1d-8304-708865c363d9",
   "metadata": {},
   "outputs": [],
   "source": [
    "from sklearn.model_selection import train_test_split\n",
    "from sklearn.linear_model import LinearRegression\n",
    "from sklearn.multioutput import MultiOutputRegressor\n",
    "from sklearn.preprocessing import MinMaxScaler\n",
    "from sklearn.model_selection import train_test_split\n",
    "from sklearn.pipeline import Pipeline\n",
    "from sklearn.linear_model import LinearRegression, Lasso\n",
    "from sklearn.ensemble import RandomForestRegressor\n",
    "from sklearn.svm import SVR\n",
    "from sklearn.model_selection import cross_validate\n",
    "from sklearn.model_selection import KFold"
   ]
  },
  {
   "cell_type": "code",
   "execution_count": 198,
   "id": "3a4edfd8-c9a3-4e3f-9cce-d04f1ce8fc33",
   "metadata": {},
   "outputs": [],
   "source": [
    "from sklearn.metrics import mean_absolute_error\n",
    "from sklearn.metrics import root_mean_squared_error"
   ]
  },
  {
   "cell_type": "markdown",
   "id": "efe1e0a3-26ab-4f9c-ba29-208329734ec0",
   "metadata": {},
   "source": [
    "## Read data"
   ]
  },
  {
   "cell_type": "code",
   "execution_count": 228,
   "id": "0c6d9798-9132-4c70-99e3-9a01335ca121",
   "metadata": {},
   "outputs": [],
   "source": [
    "timeseries = pd.read_csv('inputs/timeseries_outliers.csv')"
   ]
  },
  {
   "cell_type": "code",
   "execution_count": 229,
   "id": "b0ddd707-5ac5-425c-b7a7-184cc97ce1a6",
   "metadata": {},
   "outputs": [],
   "source": [
    "timeseries = timeseries[timeseries.TURBINE == 1]"
   ]
  },
  {
   "cell_type": "markdown",
   "id": "83551f78-0400-4b5a-a9ba-10ae0506600e",
   "metadata": {},
   "source": [
    "## Processing"
   ]
  },
  {
   "cell_type": "code",
   "execution_count": 230,
   "id": "c9945155-4ff1-4c0e-b099-4ac891a54d3f",
   "metadata": {},
   "outputs": [],
   "source": [
    "timeseries = timeseries.dropna(ignore_index=True)"
   ]
  },
  {
   "cell_type": "code",
   "execution_count": 231,
   "id": "7b862bbb-6f7a-4750-9737-e9fc106e3ddb",
   "metadata": {},
   "outputs": [],
   "source": [
    "timeseries = timeseries.drop(columns=['TURBINE', 'DAY', 'TIMESLOT'])"
   ]
  },
  {
   "cell_type": "markdown",
   "id": "0302ff88-cab0-46e8-b203-813e57493644",
   "metadata": {},
   "source": [
    "## Training"
   ]
  },
  {
   "cell_type": "code",
   "execution_count": 232,
   "id": "16cd2e96-da9f-442b-8351-b69f01dc930e",
   "metadata": {},
   "outputs": [],
   "source": [
    "X = timeseries.drop(columns=['ACTIVE_POWER'])"
   ]
  },
  {
   "cell_type": "code",
   "execution_count": 233,
   "id": "1b805ab4-4e14-48d1-ac40-e2ff969ffff7",
   "metadata": {},
   "outputs": [],
   "source": [
    "y = timeseries['ACTIVE_POWER']"
   ]
  },
  {
   "cell_type": "code",
   "execution_count": 234,
   "id": "ad1463f2-6ab5-4250-b1d2-5bd67bc235e2",
   "metadata": {},
   "outputs": [],
   "source": [
    "X_train, X_test, y_train, y_test = train_test_split(X, y, test_size=0.2, train_size=0.8, shuffle=True)"
   ]
  },
  {
   "cell_type": "code",
   "execution_count": 235,
   "id": "907f3b9f-6519-4ff5-983f-1432b3a0c02f",
   "metadata": {},
   "outputs": [],
   "source": [
    "pipeline = Pipeline([\n",
    "    ('regressor', LinearRegression())\n",
    "])"
   ]
  },
  {
   "cell_type": "code",
   "execution_count": 236,
   "id": "32c83596-37b8-493d-9958-7f819cc7790c",
   "metadata": {},
   "outputs": [
    {
     "data": {
      "text/html": [
       "<style>#sk-container-id-8 {\n",
       "  /* Definition of color scheme common for light and dark mode */\n",
       "  --sklearn-color-text: black;\n",
       "  --sklearn-color-line: gray;\n",
       "  /* Definition of color scheme for unfitted estimators */\n",
       "  --sklearn-color-unfitted-level-0: #fff5e6;\n",
       "  --sklearn-color-unfitted-level-1: #f6e4d2;\n",
       "  --sklearn-color-unfitted-level-2: #ffe0b3;\n",
       "  --sklearn-color-unfitted-level-3: chocolate;\n",
       "  /* Definition of color scheme for fitted estimators */\n",
       "  --sklearn-color-fitted-level-0: #f0f8ff;\n",
       "  --sklearn-color-fitted-level-1: #d4ebff;\n",
       "  --sklearn-color-fitted-level-2: #b3dbfd;\n",
       "  --sklearn-color-fitted-level-3: cornflowerblue;\n",
       "\n",
       "  /* Specific color for light theme */\n",
       "  --sklearn-color-text-on-default-background: var(--sg-text-color, var(--theme-code-foreground, var(--jp-content-font-color1, black)));\n",
       "  --sklearn-color-background: var(--sg-background-color, var(--theme-background, var(--jp-layout-color0, white)));\n",
       "  --sklearn-color-border-box: var(--sg-text-color, var(--theme-code-foreground, var(--jp-content-font-color1, black)));\n",
       "  --sklearn-color-icon: #696969;\n",
       "\n",
       "  @media (prefers-color-scheme: dark) {\n",
       "    /* Redefinition of color scheme for dark theme */\n",
       "    --sklearn-color-text-on-default-background: var(--sg-text-color, var(--theme-code-foreground, var(--jp-content-font-color1, white)));\n",
       "    --sklearn-color-background: var(--sg-background-color, var(--theme-background, var(--jp-layout-color0, #111)));\n",
       "    --sklearn-color-border-box: var(--sg-text-color, var(--theme-code-foreground, var(--jp-content-font-color1, white)));\n",
       "    --sklearn-color-icon: #878787;\n",
       "  }\n",
       "}\n",
       "\n",
       "#sk-container-id-8 {\n",
       "  color: var(--sklearn-color-text);\n",
       "}\n",
       "\n",
       "#sk-container-id-8 pre {\n",
       "  padding: 0;\n",
       "}\n",
       "\n",
       "#sk-container-id-8 input.sk-hidden--visually {\n",
       "  border: 0;\n",
       "  clip: rect(1px 1px 1px 1px);\n",
       "  clip: rect(1px, 1px, 1px, 1px);\n",
       "  height: 1px;\n",
       "  margin: -1px;\n",
       "  overflow: hidden;\n",
       "  padding: 0;\n",
       "  position: absolute;\n",
       "  width: 1px;\n",
       "}\n",
       "\n",
       "#sk-container-id-8 div.sk-dashed-wrapped {\n",
       "  border: 1px dashed var(--sklearn-color-line);\n",
       "  margin: 0 0.4em 0.5em 0.4em;\n",
       "  box-sizing: border-box;\n",
       "  padding-bottom: 0.4em;\n",
       "  background-color: var(--sklearn-color-background);\n",
       "}\n",
       "\n",
       "#sk-container-id-8 div.sk-container {\n",
       "  /* jupyter's `normalize.less` sets `[hidden] { display: none; }`\n",
       "     but bootstrap.min.css set `[hidden] { display: none !important; }`\n",
       "     so we also need the `!important` here to be able to override the\n",
       "     default hidden behavior on the sphinx rendered scikit-learn.org.\n",
       "     See: https://github.com/scikit-learn/scikit-learn/issues/21755 */\n",
       "  display: inline-block !important;\n",
       "  position: relative;\n",
       "}\n",
       "\n",
       "#sk-container-id-8 div.sk-text-repr-fallback {\n",
       "  display: none;\n",
       "}\n",
       "\n",
       "div.sk-parallel-item,\n",
       "div.sk-serial,\n",
       "div.sk-item {\n",
       "  /* draw centered vertical line to link estimators */\n",
       "  background-image: linear-gradient(var(--sklearn-color-text-on-default-background), var(--sklearn-color-text-on-default-background));\n",
       "  background-size: 2px 100%;\n",
       "  background-repeat: no-repeat;\n",
       "  background-position: center center;\n",
       "}\n",
       "\n",
       "/* Parallel-specific style estimator block */\n",
       "\n",
       "#sk-container-id-8 div.sk-parallel-item::after {\n",
       "  content: \"\";\n",
       "  width: 100%;\n",
       "  border-bottom: 2px solid var(--sklearn-color-text-on-default-background);\n",
       "  flex-grow: 1;\n",
       "}\n",
       "\n",
       "#sk-container-id-8 div.sk-parallel {\n",
       "  display: flex;\n",
       "  align-items: stretch;\n",
       "  justify-content: center;\n",
       "  background-color: var(--sklearn-color-background);\n",
       "  position: relative;\n",
       "}\n",
       "\n",
       "#sk-container-id-8 div.sk-parallel-item {\n",
       "  display: flex;\n",
       "  flex-direction: column;\n",
       "}\n",
       "\n",
       "#sk-container-id-8 div.sk-parallel-item:first-child::after {\n",
       "  align-self: flex-end;\n",
       "  width: 50%;\n",
       "}\n",
       "\n",
       "#sk-container-id-8 div.sk-parallel-item:last-child::after {\n",
       "  align-self: flex-start;\n",
       "  width: 50%;\n",
       "}\n",
       "\n",
       "#sk-container-id-8 div.sk-parallel-item:only-child::after {\n",
       "  width: 0;\n",
       "}\n",
       "\n",
       "/* Serial-specific style estimator block */\n",
       "\n",
       "#sk-container-id-8 div.sk-serial {\n",
       "  display: flex;\n",
       "  flex-direction: column;\n",
       "  align-items: center;\n",
       "  background-color: var(--sklearn-color-background);\n",
       "  padding-right: 1em;\n",
       "  padding-left: 1em;\n",
       "}\n",
       "\n",
       "\n",
       "/* Toggleable style: style used for estimator/Pipeline/ColumnTransformer box that is\n",
       "clickable and can be expanded/collapsed.\n",
       "- Pipeline and ColumnTransformer use this feature and define the default style\n",
       "- Estimators will overwrite some part of the style using the `sk-estimator` class\n",
       "*/\n",
       "\n",
       "/* Pipeline and ColumnTransformer style (default) */\n",
       "\n",
       "#sk-container-id-8 div.sk-toggleable {\n",
       "  /* Default theme specific background. It is overwritten whether we have a\n",
       "  specific estimator or a Pipeline/ColumnTransformer */\n",
       "  background-color: var(--sklearn-color-background);\n",
       "}\n",
       "\n",
       "/* Toggleable label */\n",
       "#sk-container-id-8 label.sk-toggleable__label {\n",
       "  cursor: pointer;\n",
       "  display: block;\n",
       "  width: 100%;\n",
       "  margin-bottom: 0;\n",
       "  padding: 0.5em;\n",
       "  box-sizing: border-box;\n",
       "  text-align: center;\n",
       "}\n",
       "\n",
       "#sk-container-id-8 label.sk-toggleable__label-arrow:before {\n",
       "  /* Arrow on the left of the label */\n",
       "  content: \"▸\";\n",
       "  float: left;\n",
       "  margin-right: 0.25em;\n",
       "  color: var(--sklearn-color-icon);\n",
       "}\n",
       "\n",
       "#sk-container-id-8 label.sk-toggleable__label-arrow:hover:before {\n",
       "  color: var(--sklearn-color-text);\n",
       "}\n",
       "\n",
       "/* Toggleable content - dropdown */\n",
       "\n",
       "#sk-container-id-8 div.sk-toggleable__content {\n",
       "  max-height: 0;\n",
       "  max-width: 0;\n",
       "  overflow: hidden;\n",
       "  text-align: left;\n",
       "  /* unfitted */\n",
       "  background-color: var(--sklearn-color-unfitted-level-0);\n",
       "}\n",
       "\n",
       "#sk-container-id-8 div.sk-toggleable__content.fitted {\n",
       "  /* fitted */\n",
       "  background-color: var(--sklearn-color-fitted-level-0);\n",
       "}\n",
       "\n",
       "#sk-container-id-8 div.sk-toggleable__content pre {\n",
       "  margin: 0.2em;\n",
       "  border-radius: 0.25em;\n",
       "  color: var(--sklearn-color-text);\n",
       "  /* unfitted */\n",
       "  background-color: var(--sklearn-color-unfitted-level-0);\n",
       "}\n",
       "\n",
       "#sk-container-id-8 div.sk-toggleable__content.fitted pre {\n",
       "  /* unfitted */\n",
       "  background-color: var(--sklearn-color-fitted-level-0);\n",
       "}\n",
       "\n",
       "#sk-container-id-8 input.sk-toggleable__control:checked~div.sk-toggleable__content {\n",
       "  /* Expand drop-down */\n",
       "  max-height: 200px;\n",
       "  max-width: 100%;\n",
       "  overflow: auto;\n",
       "}\n",
       "\n",
       "#sk-container-id-8 input.sk-toggleable__control:checked~label.sk-toggleable__label-arrow:before {\n",
       "  content: \"▾\";\n",
       "}\n",
       "\n",
       "/* Pipeline/ColumnTransformer-specific style */\n",
       "\n",
       "#sk-container-id-8 div.sk-label input.sk-toggleable__control:checked~label.sk-toggleable__label {\n",
       "  color: var(--sklearn-color-text);\n",
       "  background-color: var(--sklearn-color-unfitted-level-2);\n",
       "}\n",
       "\n",
       "#sk-container-id-8 div.sk-label.fitted input.sk-toggleable__control:checked~label.sk-toggleable__label {\n",
       "  background-color: var(--sklearn-color-fitted-level-2);\n",
       "}\n",
       "\n",
       "/* Estimator-specific style */\n",
       "\n",
       "/* Colorize estimator box */\n",
       "#sk-container-id-8 div.sk-estimator input.sk-toggleable__control:checked~label.sk-toggleable__label {\n",
       "  /* unfitted */\n",
       "  background-color: var(--sklearn-color-unfitted-level-2);\n",
       "}\n",
       "\n",
       "#sk-container-id-8 div.sk-estimator.fitted input.sk-toggleable__control:checked~label.sk-toggleable__label {\n",
       "  /* fitted */\n",
       "  background-color: var(--sklearn-color-fitted-level-2);\n",
       "}\n",
       "\n",
       "#sk-container-id-8 div.sk-label label.sk-toggleable__label,\n",
       "#sk-container-id-8 div.sk-label label {\n",
       "  /* The background is the default theme color */\n",
       "  color: var(--sklearn-color-text-on-default-background);\n",
       "}\n",
       "\n",
       "/* On hover, darken the color of the background */\n",
       "#sk-container-id-8 div.sk-label:hover label.sk-toggleable__label {\n",
       "  color: var(--sklearn-color-text);\n",
       "  background-color: var(--sklearn-color-unfitted-level-2);\n",
       "}\n",
       "\n",
       "/* Label box, darken color on hover, fitted */\n",
       "#sk-container-id-8 div.sk-label.fitted:hover label.sk-toggleable__label.fitted {\n",
       "  color: var(--sklearn-color-text);\n",
       "  background-color: var(--sklearn-color-fitted-level-2);\n",
       "}\n",
       "\n",
       "/* Estimator label */\n",
       "\n",
       "#sk-container-id-8 div.sk-label label {\n",
       "  font-family: monospace;\n",
       "  font-weight: bold;\n",
       "  display: inline-block;\n",
       "  line-height: 1.2em;\n",
       "}\n",
       "\n",
       "#sk-container-id-8 div.sk-label-container {\n",
       "  text-align: center;\n",
       "}\n",
       "\n",
       "/* Estimator-specific */\n",
       "#sk-container-id-8 div.sk-estimator {\n",
       "  font-family: monospace;\n",
       "  border: 1px dotted var(--sklearn-color-border-box);\n",
       "  border-radius: 0.25em;\n",
       "  box-sizing: border-box;\n",
       "  margin-bottom: 0.5em;\n",
       "  /* unfitted */\n",
       "  background-color: var(--sklearn-color-unfitted-level-0);\n",
       "}\n",
       "\n",
       "#sk-container-id-8 div.sk-estimator.fitted {\n",
       "  /* fitted */\n",
       "  background-color: var(--sklearn-color-fitted-level-0);\n",
       "}\n",
       "\n",
       "/* on hover */\n",
       "#sk-container-id-8 div.sk-estimator:hover {\n",
       "  /* unfitted */\n",
       "  background-color: var(--sklearn-color-unfitted-level-2);\n",
       "}\n",
       "\n",
       "#sk-container-id-8 div.sk-estimator.fitted:hover {\n",
       "  /* fitted */\n",
       "  background-color: var(--sklearn-color-fitted-level-2);\n",
       "}\n",
       "\n",
       "/* Specification for estimator info (e.g. \"i\" and \"?\") */\n",
       "\n",
       "/* Common style for \"i\" and \"?\" */\n",
       "\n",
       ".sk-estimator-doc-link,\n",
       "a:link.sk-estimator-doc-link,\n",
       "a:visited.sk-estimator-doc-link {\n",
       "  float: right;\n",
       "  font-size: smaller;\n",
       "  line-height: 1em;\n",
       "  font-family: monospace;\n",
       "  background-color: var(--sklearn-color-background);\n",
       "  border-radius: 1em;\n",
       "  height: 1em;\n",
       "  width: 1em;\n",
       "  text-decoration: none !important;\n",
       "  margin-left: 1ex;\n",
       "  /* unfitted */\n",
       "  border: var(--sklearn-color-unfitted-level-1) 1pt solid;\n",
       "  color: var(--sklearn-color-unfitted-level-1);\n",
       "}\n",
       "\n",
       ".sk-estimator-doc-link.fitted,\n",
       "a:link.sk-estimator-doc-link.fitted,\n",
       "a:visited.sk-estimator-doc-link.fitted {\n",
       "  /* fitted */\n",
       "  border: var(--sklearn-color-fitted-level-1) 1pt solid;\n",
       "  color: var(--sklearn-color-fitted-level-1);\n",
       "}\n",
       "\n",
       "/* On hover */\n",
       "div.sk-estimator:hover .sk-estimator-doc-link:hover,\n",
       ".sk-estimator-doc-link:hover,\n",
       "div.sk-label-container:hover .sk-estimator-doc-link:hover,\n",
       ".sk-estimator-doc-link:hover {\n",
       "  /* unfitted */\n",
       "  background-color: var(--sklearn-color-unfitted-level-3);\n",
       "  color: var(--sklearn-color-background);\n",
       "  text-decoration: none;\n",
       "}\n",
       "\n",
       "div.sk-estimator.fitted:hover .sk-estimator-doc-link.fitted:hover,\n",
       ".sk-estimator-doc-link.fitted:hover,\n",
       "div.sk-label-container:hover .sk-estimator-doc-link.fitted:hover,\n",
       ".sk-estimator-doc-link.fitted:hover {\n",
       "  /* fitted */\n",
       "  background-color: var(--sklearn-color-fitted-level-3);\n",
       "  color: var(--sklearn-color-background);\n",
       "  text-decoration: none;\n",
       "}\n",
       "\n",
       "/* Span, style for the box shown on hovering the info icon */\n",
       ".sk-estimator-doc-link span {\n",
       "  display: none;\n",
       "  z-index: 9999;\n",
       "  position: relative;\n",
       "  font-weight: normal;\n",
       "  right: .2ex;\n",
       "  padding: .5ex;\n",
       "  margin: .5ex;\n",
       "  width: min-content;\n",
       "  min-width: 20ex;\n",
       "  max-width: 50ex;\n",
       "  color: var(--sklearn-color-text);\n",
       "  box-shadow: 2pt 2pt 4pt #999;\n",
       "  /* unfitted */\n",
       "  background: var(--sklearn-color-unfitted-level-0);\n",
       "  border: .5pt solid var(--sklearn-color-unfitted-level-3);\n",
       "}\n",
       "\n",
       ".sk-estimator-doc-link.fitted span {\n",
       "  /* fitted */\n",
       "  background: var(--sklearn-color-fitted-level-0);\n",
       "  border: var(--sklearn-color-fitted-level-3);\n",
       "}\n",
       "\n",
       ".sk-estimator-doc-link:hover span {\n",
       "  display: block;\n",
       "}\n",
       "\n",
       "/* \"?\"-specific style due to the `<a>` HTML tag */\n",
       "\n",
       "#sk-container-id-8 a.estimator_doc_link {\n",
       "  float: right;\n",
       "  font-size: 1rem;\n",
       "  line-height: 1em;\n",
       "  font-family: monospace;\n",
       "  background-color: var(--sklearn-color-background);\n",
       "  border-radius: 1rem;\n",
       "  height: 1rem;\n",
       "  width: 1rem;\n",
       "  text-decoration: none;\n",
       "  /* unfitted */\n",
       "  color: var(--sklearn-color-unfitted-level-1);\n",
       "  border: var(--sklearn-color-unfitted-level-1) 1pt solid;\n",
       "}\n",
       "\n",
       "#sk-container-id-8 a.estimator_doc_link.fitted {\n",
       "  /* fitted */\n",
       "  border: var(--sklearn-color-fitted-level-1) 1pt solid;\n",
       "  color: var(--sklearn-color-fitted-level-1);\n",
       "}\n",
       "\n",
       "/* On hover */\n",
       "#sk-container-id-8 a.estimator_doc_link:hover {\n",
       "  /* unfitted */\n",
       "  background-color: var(--sklearn-color-unfitted-level-3);\n",
       "  color: var(--sklearn-color-background);\n",
       "  text-decoration: none;\n",
       "}\n",
       "\n",
       "#sk-container-id-8 a.estimator_doc_link.fitted:hover {\n",
       "  /* fitted */\n",
       "  background-color: var(--sklearn-color-fitted-level-3);\n",
       "}\n",
       "</style><div id=\"sk-container-id-8\" class=\"sk-top-container\"><div class=\"sk-text-repr-fallback\"><pre>Pipeline(steps=[(&#x27;regressor&#x27;, LinearRegression())])</pre><b>In a Jupyter environment, please rerun this cell to show the HTML representation or trust the notebook. <br />On GitHub, the HTML representation is unable to render, please try loading this page with nbviewer.org.</b></div><div class=\"sk-container\" hidden><div class=\"sk-item sk-dashed-wrapped\"><div class=\"sk-label-container\"><div class=\"sk-label fitted sk-toggleable\"><input class=\"sk-toggleable__control sk-hidden--visually\" id=\"sk-estimator-id-19\" type=\"checkbox\" ><label for=\"sk-estimator-id-19\" class=\"sk-toggleable__label fitted sk-toggleable__label-arrow fitted\">&nbsp;&nbsp;Pipeline<a class=\"sk-estimator-doc-link fitted\" rel=\"noreferrer\" target=\"_blank\" href=\"https://scikit-learn.org/1.4/modules/generated/sklearn.pipeline.Pipeline.html\">?<span>Documentation for Pipeline</span></a><span class=\"sk-estimator-doc-link fitted\">i<span>Fitted</span></span></label><div class=\"sk-toggleable__content fitted\"><pre>Pipeline(steps=[(&#x27;regressor&#x27;, LinearRegression())])</pre></div> </div></div><div class=\"sk-serial\"><div class=\"sk-item\"><div class=\"sk-estimator fitted sk-toggleable\"><input class=\"sk-toggleable__control sk-hidden--visually\" id=\"sk-estimator-id-20\" type=\"checkbox\" ><label for=\"sk-estimator-id-20\" class=\"sk-toggleable__label fitted sk-toggleable__label-arrow fitted\">&nbsp;LinearRegression<a class=\"sk-estimator-doc-link fitted\" rel=\"noreferrer\" target=\"_blank\" href=\"https://scikit-learn.org/1.4/modules/generated/sklearn.linear_model.LinearRegression.html\">?<span>Documentation for LinearRegression</span></a></label><div class=\"sk-toggleable__content fitted\"><pre>LinearRegression()</pre></div> </div></div></div></div></div></div>"
      ],
      "text/plain": [
       "Pipeline(steps=[('regressor', LinearRegression())])"
      ]
     },
     "execution_count": 236,
     "metadata": {},
     "output_type": "execute_result"
    }
   ],
   "source": [
    "pipeline.fit(X_train, y_train)"
   ]
  },
  {
   "cell_type": "code",
   "execution_count": 237,
   "id": "b4b2dabd-fc24-488e-82f5-42885f581d0b",
   "metadata": {},
   "outputs": [],
   "source": [
    "y_hat = pipeline.predict(X_test)"
   ]
  },
  {
   "cell_type": "markdown",
   "id": "6dbe9522-4718-4e84-bddb-33fc2b9270bf",
   "metadata": {},
   "source": [
    "## Residuals plot"
   ]
  },
  {
   "cell_type": "code",
   "execution_count": 238,
   "id": "433942f6-c1a2-4d02-a02c-42bba7c00412",
   "metadata": {},
   "outputs": [],
   "source": [
    "residual_scatterplot = Scatterplot(opacity=0.05)\n",
    "identity_line = IdentityLine()"
   ]
  },
  {
   "cell_type": "code",
   "execution_count": 239,
   "id": "03a31566-732c-4129-a39d-540e258c2548",
   "metadata": {},
   "outputs": [
    {
     "data": {
      "image/png": "[encoded data removed]",
      "text/plain": [
       "<Figure size 1000x800 with 1 Axes>"
      ]
     },
     "metadata": {},
     "output_type": "display_data"
    }
   ],
   "source": [
    "# Initialize plots\n",
    "plots = Plots(1, 1, 10, 8)\n",
    "plot = plots.get_plot_from_list_by_index(0)\n",
    "\n",
    "# Draw scatterplot\n",
    "identity_line.draw_on_plot(plot)\n",
    "residual_scatterplot.draw_on_plot(\n",
    "    y_hat,\n",
    "    y_test.values,\n",
    "    plot\n",
    ")\n",
    "\n",
    "# Configure plot\n",
    "plot.toggle_top_and_right_border(False)\n",
    "plot.set_x_axis_boundaries(y_hat.min(), y_hat.max())\n",
    "plot.set_y_axis_boundaries(y_test.values.min(), y_test.values.max() * 1.1)\n",
    "plot.set_axis_labels('Predicted active power', 'Actual active power')\n",
    "plots.set_title('Residuals plot')\n",
    "\n",
    "# Show plots\n",
    "plots.show()\n",
    "del plot"
   ]
  },
  {
   "cell_type": "markdown",
   "id": "dd3cbce5-5e45-4366-9a4d-0a57ab208ce2",
   "metadata": {},
   "source": [
    "## Feature importance"
   ]
  },
  {
   "cell_type": "code",
   "execution_count": 240,
   "id": "698393f8-a013-4b12-a81b-ad73bb06b757",
   "metadata": {},
   "outputs": [],
   "source": [
    "feature_to_feature_importance = dict(\n",
    "    zip(\n",
    "        X_train.columns,\n",
    "        pipeline.named_steps['regressor'].coef_\n",
    "    )\n",
    ")"
   ]
  },
  {
   "cell_type": "code",
   "execution_count": 241,
   "id": "fb9ff354-f55b-4c1d-8b6b-c1f150572553",
   "metadata": {},
   "outputs": [
    {
     "data": {
      "text/html": [
       "<div>\n",
       "<style scoped>\n",
       "    .dataframe tbody tr th:only-of-type {\n",
       "        vertical-align: middle;\n",
       "    }\n",
       "\n",
       "    .dataframe tbody tr th {\n",
       "        vertical-align: top;\n",
       "    }\n",
       "\n",
       "    .dataframe thead th {\n",
       "        text-align: right;\n",
       "    }\n",
       "</style>\n",
       "<table border=\"1\" class=\"dataframe\">\n",
       "  <thead>\n",
       "    <tr style=\"text-align: right;\">\n",
       "      <th></th>\n",
       "      <th>DIMENSION</th>\n",
       "      <th>WEIGHT</th>\n",
       "    </tr>\n",
       "  </thead>\n",
       "  <tbody>\n",
       "    <tr>\n",
       "      <th>0</th>\n",
       "      <td>PITCH_ANGLE_SECOND_BLADE</td>\n",
       "      <td>-157.958598</td>\n",
       "    </tr>\n",
       "    <tr>\n",
       "      <th>1</th>\n",
       "      <td>EXTERNAL_TEMPERATURE</td>\n",
       "      <td>-6.070475</td>\n",
       "    </tr>\n",
       "    <tr>\n",
       "      <th>2</th>\n",
       "      <td>NACELLE_DIRECTION</td>\n",
       "      <td>0.008764</td>\n",
       "    </tr>\n",
       "    <tr>\n",
       "      <th>3</th>\n",
       "      <td>REACTIVE_POWER</td>\n",
       "      <td>0.345136</td>\n",
       "    </tr>\n",
       "    <tr>\n",
       "      <th>4</th>\n",
       "      <td>WIND_DIRECTION</td>\n",
       "      <td>0.421014</td>\n",
       "    </tr>\n",
       "    <tr>\n",
       "      <th>5</th>\n",
       "      <td>INTERNAL_TEMPERATURE</td>\n",
       "      <td>8.005012</td>\n",
       "    </tr>\n",
       "    <tr>\n",
       "      <th>6</th>\n",
       "      <td>PITCH_ANGLE_THIRD_BLADE</td>\n",
       "      <td>71.559044</td>\n",
       "    </tr>\n",
       "    <tr>\n",
       "      <th>7</th>\n",
       "      <td>PITCH_ANGLE_FIRST_BLADE</td>\n",
       "      <td>78.913904</td>\n",
       "    </tr>\n",
       "    <tr>\n",
       "      <th>8</th>\n",
       "      <td>WIND_SPEED</td>\n",
       "      <td>146.016415</td>\n",
       "    </tr>\n",
       "  </tbody>\n",
       "</table>\n",
       "</div>"
      ],
      "text/plain": [
       "                  DIMENSION      WEIGHT\n",
       "0  PITCH_ANGLE_SECOND_BLADE -157.958598\n",
       "1      EXTERNAL_TEMPERATURE   -6.070475\n",
       "2         NACELLE_DIRECTION    0.008764\n",
       "3            REACTIVE_POWER    0.345136\n",
       "4            WIND_DIRECTION    0.421014\n",
       "5      INTERNAL_TEMPERATURE    8.005012\n",
       "6   PITCH_ANGLE_THIRD_BLADE   71.559044\n",
       "7   PITCH_ANGLE_FIRST_BLADE   78.913904\n",
       "8                WIND_SPEED  146.016415"
      ]
     },
     "execution_count": 241,
     "metadata": {},
     "output_type": "execute_result"
    }
   ],
   "source": [
    "feature_to_feature_importance = pd.DataFrame(\n",
    "    feature_to_feature_importance.items(), \n",
    "    columns=['DIMENSION', 'WEIGHT']\n",
    ")\n",
    "\n",
    "feature_to_feature_importance.sort_values('WEIGHT', ignore_index=True)"
   ]
  },
  {
   "cell_type": "markdown",
   "id": "8533ad56-70a6-42b8-a43a-e6b638222872",
   "metadata": {},
   "source": [
    "## Validation"
   ]
  },
  {
   "cell_type": "code",
   "execution_count": 242,
   "id": "7bcbf457-7522-4c6f-8b17-da9ea6878b1b",
   "metadata": {},
   "outputs": [],
   "source": [
    "cross_validation = cross_validate(\n",
    "    pipeline,\n",
    "    X,\n",
    "    y,\n",
    "    cv=KFold(shuffle=True),\n",
    "    scoring=[\n",
    "        'neg_mean_absolute_error',\n",
    "        'neg_root_mean_squared_error',\n",
    "        'r2'\n",
    "    ]\n",
    ")"
   ]
  },
  {
   "cell_type": "code",
   "execution_count": 243,
   "id": "548bd909-e6e2-4105-88f6-656897ab40bf",
   "metadata": {},
   "outputs": [
    {
     "data": {
      "text/html": [
       "<div>\n",
       "<style scoped>\n",
       "    .dataframe tbody tr th:only-of-type {\n",
       "        vertical-align: middle;\n",
       "    }\n",
       "\n",
       "    .dataframe tbody tr th {\n",
       "        vertical-align: top;\n",
       "    }\n",
       "\n",
       "    .dataframe thead th {\n",
       "        text-align: right;\n",
       "    }\n",
       "</style>\n",
       "<table border=\"1\" class=\"dataframe\">\n",
       "  <thead>\n",
       "    <tr style=\"text-align: right;\">\n",
       "      <th></th>\n",
       "      <th>fit_time</th>\n",
       "      <th>score_time</th>\n",
       "      <th>test_neg_mean_absolute_error</th>\n",
       "      <th>test_neg_root_mean_squared_error</th>\n",
       "      <th>test_r2</th>\n",
       "    </tr>\n",
       "  </thead>\n",
       "  <tbody>\n",
       "    <tr>\n",
       "      <th>0</th>\n",
       "      <td>0.032229</td>\n",
       "      <td>0.014189</td>\n",
       "      <td>-99.979042</td>\n",
       "      <td>-140.634915</td>\n",
       "      <td>0.927071</td>\n",
       "    </tr>\n",
       "    <tr>\n",
       "      <th>1</th>\n",
       "      <td>0.124910</td>\n",
       "      <td>0.007121</td>\n",
       "      <td>-102.427349</td>\n",
       "      <td>-146.813152</td>\n",
       "      <td>0.921531</td>\n",
       "    </tr>\n",
       "    <tr>\n",
       "      <th>2</th>\n",
       "      <td>0.135734</td>\n",
       "      <td>0.030750</td>\n",
       "      <td>-101.148296</td>\n",
       "      <td>-145.441612</td>\n",
       "      <td>0.920824</td>\n",
       "    </tr>\n",
       "    <tr>\n",
       "      <th>3</th>\n",
       "      <td>0.223101</td>\n",
       "      <td>0.035714</td>\n",
       "      <td>-98.844634</td>\n",
       "      <td>-133.111511</td>\n",
       "      <td>0.933969</td>\n",
       "    </tr>\n",
       "    <tr>\n",
       "      <th>4</th>\n",
       "      <td>0.089548</td>\n",
       "      <td>0.009489</td>\n",
       "      <td>-101.109422</td>\n",
       "      <td>-140.443416</td>\n",
       "      <td>0.929039</td>\n",
       "    </tr>\n",
       "  </tbody>\n",
       "</table>\n",
       "</div>"
      ],
      "text/plain": [
       "   fit_time  score_time  test_neg_mean_absolute_error  \\\n",
       "0  0.032229    0.014189                    -99.979042   \n",
       "1  0.124910    0.007121                   -102.427349   \n",
       "2  0.135734    0.030750                   -101.148296   \n",
       "3  0.223101    0.035714                    -98.844634   \n",
       "4  0.089548    0.009489                   -101.109422   \n",
       "\n",
       "   test_neg_root_mean_squared_error   test_r2  \n",
       "0                       -140.634915  0.927071  \n",
       "1                       -146.813152  0.921531  \n",
       "2                       -145.441612  0.920824  \n",
       "3                       -133.111511  0.933969  \n",
       "4                       -140.443416  0.929039  "
      ]
     },
     "execution_count": 243,
     "metadata": {},
     "output_type": "execute_result"
    }
   ],
   "source": [
    "pd.DataFrame(cross_validation)"
   ]
  }
 ],
 "metadata": {
  "kernelspec": {
   "display_name": "Thesis",
   "language": "python",
   "name": "venv"
  },
  "language_info": {
   "codemirror_mode": {
    "name": "ipython",
    "version": 3
   },
   "file_extension": ".py",
   "mimetype": "text/x-python",
   "name": "python",
   "nbconvert_exporter": "python",
   "pygments_lexer": "ipython3",
   "version": "3.12.2"
  }
 },
 "nbformat": 4,
 "nbformat_minor": 5
}
